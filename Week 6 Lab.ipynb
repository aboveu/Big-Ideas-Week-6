{
 "cells": [
  {
   "cell_type": "code",
   "execution_count": 5,
   "metadata": {},
   "outputs": [
    {
     "name": "stdin",
     "output_type": "stream",
     "text": [
      "What's your name? Alec Bove\n",
      "What's your age? 77\n"
     ]
    },
    {
     "name": "stdout",
     "output_type": "stream",
     "text": [
      "Hi Alec Bove.\n",
      "Go home.\n"
     ]
    }
   ],
   "source": [
    "name = input(\"What's your name?\")\n",
    "age = int(input(\"What's your age?\"))\n",
    "\n",
    "print(\"Hi \" + name + \".\")\n",
    "\n",
    "if age < 21:\n",
    "    print(\"You are too young to get in the club!\")\n",
    "elif 20 < age < 65:\n",
    "    print(\"You are allowed to enter the club.\")\n",
    "else:\n",
    "    print(\"Go home. You are too old for our liking.\")"
   ]
  }
 ],
 "metadata": {
  "kernelspec": {
   "display_name": "Python 3",
   "language": "python",
   "name": "python3"
  },
  "language_info": {
   "codemirror_mode": {
    "name": "ipython",
    "version": 3
   },
   "file_extension": ".py",
   "mimetype": "text/x-python",
   "name": "python",
   "nbconvert_exporter": "python",
   "pygments_lexer": "ipython3",
   "version": "3.8.3"
  }
 },
 "nbformat": 4,
 "nbformat_minor": 4
}
