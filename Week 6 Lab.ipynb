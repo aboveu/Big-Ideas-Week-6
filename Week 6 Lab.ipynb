{
 "cells": [
  {
   "cell_type": "code",
   "execution_count": 3,
   "metadata": {},
   "outputs": [
    {
     "name": "stdin",
     "output_type": "stream",
     "text": [
      "What's your name? aj\n",
      "Enter a random integer value: 8\n"
     ]
    }
   ],
   "source": [
    "name = input(\"What's your name?\")\n",
    "age = int(input(\"What's your age?\"))\n",
    "\n",
    "print(\"Hi \" + name + \".\")\n",
    "\n",
    "if age < 21:\n",
    "    print(\"You must be too young to be in school!\")"
   ]
  }
 ],
 "metadata": {
  "kernelspec": {
   "display_name": "Python 3",
   "language": "python",
   "name": "python3"
  },
  "language_info": {
   "codemirror_mode": {
    "name": "ipython",
    "version": 3
   },
   "file_extension": ".py",
   "mimetype": "text/x-python",
   "name": "python",
   "nbconvert_exporter": "python",
   "pygments_lexer": "ipython3",
   "version": "3.8.3"
  }
 },
 "nbformat": 4,
 "nbformat_minor": 4
}
